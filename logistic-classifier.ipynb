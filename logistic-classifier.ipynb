{
 "metadata": {
  "name": ""
 },
 "nbformat": 3,
 "nbformat_minor": 0,
 "worksheets": [
  {
   "cells": [
    {
     "cell_type": "markdown",
     "metadata": {},
     "source": [
      "# Logistic classifier"
     ]
    },
    {
     "cell_type": "code",
     "collapsed": false,
     "input": [
      "import math\n",
      "import numpy as np\n",
      "import scipy as sp\n",
      "import sklearn as skl"
     ],
     "language": "python",
     "metadata": {},
     "outputs": [],
     "prompt_number": 2
    },
    {
     "cell_type": "code",
     "collapsed": false,
     "input": [
      "%matplotlib inline\n",
      "import matplotlib.pyplot as plt\n",
      "plt.rcParams['figure.figsize'] = (16.0, 8.0)"
     ],
     "language": "python",
     "metadata": {},
     "outputs": [],
     "prompt_number": 3
    },
    {
     "cell_type": "markdown",
     "metadata": {},
     "source": [
      "## Data generation"
     ]
    },
    {
     "cell_type": "code",
     "collapsed": false,
     "input": [
      "def data1_map( x ):\n",
      "    return -5/6. * x - 10\n",
      "\n",
      "def gen_data1( npoints ):\n",
      "    rx = np.random.normal( -5, 5, npoints )\n",
      "    ry = np.random.normal( 0, 1, npoints )\n",
      "    \n",
      "    rx = rx[:,np.newaxis]\n",
      "    ry = ry[:,np.newaxis]\n",
      "    \n",
      "    return np.c_[ rx, data1_map( rx ) + ry ]"
     ],
     "language": "python",
     "metadata": {},
     "outputs": [],
     "prompt_number": 58
    },
    {
     "cell_type": "code",
     "collapsed": false,
     "input": [
      "def data2_map( x, y ):\n",
      "    theta = math.radians( 80 )\n",
      "    x2 = x * np.cos( theta ) - y * np.sin( theta )\n",
      "    y2 = x * np.sin( theta ) + y * np.cos( theta )\n",
      "    return np.c_[ x2+2.5, y2 ]\n",
      "\n",
      "def gen_data2( npoints ):\n",
      "    rx = np.random.normal( 0, 5, npoints )\n",
      "    ry = np.random.normal( 0, 1.25, npoints )\n",
      "\n",
      "    rx = rx[:,np.newaxis]\n",
      "    ry = ry[:,np.newaxis]\n",
      "    \n",
      "    res = data2_map( rx, ry )\n",
      "    return res"
     ],
     "language": "python",
     "metadata": {},
     "outputs": [],
     "prompt_number": 63
    },
    {
     "cell_type": "code",
     "collapsed": false,
     "input": [
      "data1 = gen_data1( 200 )\n",
      "data2 = gen_data2( 200 )"
     ],
     "language": "python",
     "metadata": {},
     "outputs": [],
     "prompt_number": 64
    },
    {
     "cell_type": "code",
     "collapsed": false,
     "input": [
      "plt.hold( True )\n",
      "#plt.plot( x, data1_map( x ) )\n",
      "plt.plot( data1[:,0], data1[:,1], 'x' )\n",
      "plt.plot( data2[:,0], data2[:,1], '.' )\n",
      "plt.axis( [ -20, 20, -30, 20 ] )"
     ],
     "language": "python",
     "metadata": {},
     "outputs": [
      {
       "metadata": {},
       "output_type": "pyout",
       "prompt_number": 70,
       "text": [
        "[-20, 20, -30, 20]"
       ]
      },
      {
       "metadata": {},
       "output_type": "display_data",
       "png": "[encoded data removed]",
       "text": [
        "<matplotlib.figure.Figure at 0x10ee95f90>"
       ]
      }
     ],
     "prompt_number": 70
    },
    {
     "cell_type": "code",
     "collapsed": false,
     "input": [
      "print data1[0][:,np.newaxis].shape"
     ],
     "language": "python",
     "metadata": {},
     "outputs": [
      {
       "output_type": "stream",
       "stream": "stdout",
       "text": [
        "(200, 1)\n"
       ]
      }
     ],
     "prompt_number": 54
    },
    {
     "cell_type": "code",
     "collapsed": false,
     "input": [
      "x = np.array( [ [ data1[0], data1[1], ],\n",
      "                [ data2[0], data2[1] ] ] )\n",
      "print x.shape"
     ],
     "language": "python",
     "metadata": {},
     "outputs": [
      {
       "output_type": "stream",
       "stream": "stdout",
       "text": [
        "(2, 2, 200)\n"
       ]
      }
     ],
     "prompt_number": 47
    },
    {
     "cell_type": "code",
     "collapsed": false,
     "input": [
      "np.r_?"
     ],
     "language": "python",
     "metadata": {},
     "outputs": [],
     "prompt_number": 52
    },
    {
     "cell_type": "code",
     "collapsed": false,
     "input": [
      "plt.axes?"
     ],
     "language": "python",
     "metadata": {},
     "outputs": [],
     "prompt_number": 53
    },
    {
     "cell_type": "code",
     "collapsed": false,
     "input": [],
     "language": "python",
     "metadata": {},
     "outputs": []
    }
   ],
   "metadata": {}
  }
 ]
}